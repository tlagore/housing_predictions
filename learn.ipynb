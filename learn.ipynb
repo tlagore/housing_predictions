{
 "cells": [
  {
   "cell_type": "code",
   "execution_count": 1,
   "id": "b0976607-5c4e-475f-afa7-60cc4439e623",
   "metadata": {},
   "outputs": [
    {
     "name": "stdout",
     "output_type": "stream",
     "text": [
      "imports successful\n"
     ]
    }
   ],
   "source": [
    "import os\n",
    "import pandas as pd\n",
    "import math\n",
    "import time\n",
    "import numpy as np\n",
    "import matplotlib.pyplot as plt\n",
    "import seaborn as sns\n",
    "print(\"imports successful\")"
   ]
  },
  {
   "cell_type": "code",
   "execution_count": 2,
   "id": "1f3a05ed-75d9-427f-9c6a-0dcb3ad4184a",
   "metadata": {},
   "outputs": [],
   "source": [
    "df = pd.read_csv('data_cleaned/housing_imputed.csv')\n",
    "col_df = pd.read_csv('data_cleaned/wages_cleaned.csv')"
   ]
  },
  {
   "cell_type": "code",
   "execution_count": 3,
   "id": "429cce18-58a9-4554-961a-3a096ac1bbe7",
   "metadata": {},
   "outputs": [
    {
     "name": "stdout",
     "output_type": "stream",
     "text": [
      "<class 'pandas.core.frame.DataFrame'>\n",
      "RangeIndex: 42768 entries, 0 to 42767\n",
      "Data columns (total 12 columns):\n",
      " #   Column        Non-Null Count  Dtype  \n",
      "---  ------        --------------  -----  \n",
      " 0   status        42768 non-null  object \n",
      " 1   price         42768 non-null  float64\n",
      " 2   bed           42768 non-null  float64\n",
      " 3   bath          42768 non-null  float64\n",
      " 4   acre_lot      42768 non-null  float64\n",
      " 5   full_address  42768 non-null  object \n",
      " 6   street        42699 non-null  object \n",
      " 7   city          42768 non-null  object \n",
      " 8   state         42768 non-null  object \n",
      " 9   zip_code      42768 non-null  float64\n",
      " 10  house_size    42768 non-null  float64\n",
      " 11  sold_date     42768 non-null  object \n",
      "dtypes: float64(6), object(6)\n",
      "memory usage: 3.9+ MB\n"
     ]
    }
   ],
   "source": [
    "df.info()"
   ]
  },
  {
   "cell_type": "code",
   "execution_count": 4,
   "id": "cf30f6a4-251a-48bc-809d-85ee1ae01347",
   "metadata": {},
   "outputs": [
    {
     "data": {
      "text/html": [
       "<div>\n",
       "<style scoped>\n",
       "    .dataframe tbody tr th:only-of-type {\n",
       "        vertical-align: middle;\n",
       "    }\n",
       "\n",
       "    .dataframe tbody tr th {\n",
       "        vertical-align: top;\n",
       "    }\n",
       "\n",
       "    .dataframe thead th {\n",
       "        text-align: right;\n",
       "    }\n",
       "</style>\n",
       "<table border=\"1\" class=\"dataframe\">\n",
       "  <thead>\n",
       "    <tr style=\"text-align: right;\">\n",
       "      <th></th>\n",
       "      <th>area</th>\n",
       "      <th>state</th>\n",
       "      <th>annual_median</th>\n",
       "    </tr>\n",
       "  </thead>\n",
       "  <tbody>\n",
       "    <tr>\n",
       "      <th>0</th>\n",
       "      <td>Abilene</td>\n",
       "      <td>Texas</td>\n",
       "      <td>47096.596491</td>\n",
       "    </tr>\n",
       "    <tr>\n",
       "      <th>1</th>\n",
       "      <td>Aguadilla-Isabela</td>\n",
       "      <td>Puerto Rico</td>\n",
       "      <td>28787.163462</td>\n",
       "    </tr>\n",
       "    <tr>\n",
       "      <th>2</th>\n",
       "      <td>Akron</td>\n",
       "      <td>Ohio</td>\n",
       "      <td>54828.518519</td>\n",
       "    </tr>\n",
       "    <tr>\n",
       "      <th>3</th>\n",
       "      <td>Albany</td>\n",
       "      <td>Georgia</td>\n",
       "      <td>46217.944664</td>\n",
       "    </tr>\n",
       "    <tr>\n",
       "      <th>4</th>\n",
       "      <td>Albany</td>\n",
       "      <td>Oregon</td>\n",
       "      <td>52356.785714</td>\n",
       "    </tr>\n",
       "  </tbody>\n",
       "</table>\n",
       "</div>"
      ],
      "text/plain": [
       "                area        state  annual_median\n",
       "0            Abilene        Texas   47096.596491\n",
       "1  Aguadilla-Isabela  Puerto Rico   28787.163462\n",
       "2              Akron         Ohio   54828.518519\n",
       "3             Albany      Georgia   46217.944664\n",
       "4             Albany       Oregon   52356.785714"
      ]
     },
     "execution_count": 4,
     "metadata": {},
     "output_type": "execute_result"
    }
   ],
   "source": [
    "lookup = {\n",
    "    \"AL\": \"Alabama\",\n",
    "    \"AK\": \"Alaska\",\n",
    "    \"AZ\": \"Arizona\",\n",
    "    \"AR\": \"Arkansas\",\n",
    "    \"CA\": \"California\",\n",
    "    \"CO\": \"Colorado\",\n",
    "    \"CT\": \"Connecticut\",\n",
    "    \"DE\": \"Delaware\",\n",
    "    \"FL\": \"Florida\",\n",
    "    \"GA\": \"Georgia\",\n",
    "    \"HI\": \"Hawaii\",\n",
    "    \"ID\": \"Idaho\",\n",
    "    \"IL\": \"Illinois\",\n",
    "    \"IN\": \"Indiana\",\n",
    "    \"IA\": \"Iowa\",\n",
    "    \"KS\": \"Kansas\",\n",
    "    \"KY\": \"Kentucky\",\n",
    "    \"LA\": \"Louisiana\",\n",
    "    \"ME\": \"Maine\",\n",
    "    \"MD\": \"Maryland\",\n",
    "    \"MA\": \"Massachusetts\",\n",
    "    \"MI\": \"Michigan\",\n",
    "    \"MN\": \"Minnesota\",\n",
    "    \"MS\": \"Mississippi\",\n",
    "    \"MO\": \"Missouri\",\n",
    "    \"MT\": \"Montana\",\n",
    "    \"NE\": \"Nebraska\",\n",
    "    \"NV\": \"Nevada\",\n",
    "    \"NH\": \"New Hampshire\",\n",
    "    \"NJ\": \"New Jersey\",\n",
    "    \"NM\": \"New Mexico\",\n",
    "    \"NY\": \"New York\",\n",
    "    \"NC\": \"North Carolina\",\n",
    "    \"ND\": \"North Dakota\",\n",
    "    \"OH\": \"Ohio\",\n",
    "    \"OK\": \"Oklahoma\",\n",
    "    \"OR\": \"Oregon\",\n",
    "    \"PA\": \"Pennsylvania\",\n",
    "    \"PR\": \"Puerto Rico\",\n",
    "    \"VI\": \"Virgin Islands\",\n",
    "    \"RI\": \"Rhode Island\",\n",
    "    \"SC\": \"South Carolina\",\n",
    "    \"SD\": \"South Dakota\",\n",
    "    \"TN\": \"Tennessee\",\n",
    "    \"TX\": \"Texas\",\n",
    "    \"UT\": \"Utah\",\n",
    "    \"VT\": \"Vermont\",\n",
    "    \"VA\": \"Virginia\",\n",
    "    \"WA\": \"Washington\",\n",
    "    \"WV\": \"West Virginia\",\n",
    "    \"WI\": \"Wisconsin\",\n",
    "    \"WY\": \"Wyoming\"\n",
    "}\n",
    "\n",
    "col_df['state'] = col_df['state'].map(lookup)\n",
    "col_df.head(5)"
   ]
  },
  {
   "cell_type": "markdown",
   "id": "17edeaf0-24ff-426d-850c-1e268bf9e128",
   "metadata": {},
   "source": [
    "### The annual median age did not include data for Virgin Islands. We only have 2 entries, so we will drop these values:"
   ]
  },
  {
   "cell_type": "code",
   "execution_count": 5,
   "id": "f7a530c2-a9a3-4191-80fb-6114ec4a5f6f",
   "metadata": {},
   "outputs": [
    {
     "name": "stdout",
     "output_type": "stream",
     "text": [
      "2\n",
      "before drop: 42768\n",
      "after drop: 42766\n"
     ]
    }
   ],
   "source": [
    "print(len(df[(df['state'] == 'Virgin Islands')]))\n",
    "print(f'before drop: {len(df)}')\n",
    "df = df[~(df['state'] == 'Virgin Islands')]\n",
    "print(f'after drop: {len(df)}')"
   ]
  },
  {
   "cell_type": "code",
   "execution_count": 6,
   "id": "b325334d-2efd-4650-a225-e54cd68eabb1",
   "metadata": {},
   "outputs": [
    {
     "data": {
      "text/html": [
       "<div>\n",
       "<style scoped>\n",
       "    .dataframe tbody tr th:only-of-type {\n",
       "        vertical-align: middle;\n",
       "    }\n",
       "\n",
       "    .dataframe tbody tr th {\n",
       "        vertical-align: top;\n",
       "    }\n",
       "\n",
       "    .dataframe thead th {\n",
       "        text-align: right;\n",
       "    }\n",
       "</style>\n",
       "<table border=\"1\" class=\"dataframe\">\n",
       "  <thead>\n",
       "    <tr style=\"text-align: right;\">\n",
       "      <th></th>\n",
       "      <th>state</th>\n",
       "      <th>annual_median</th>\n",
       "    </tr>\n",
       "  </thead>\n",
       "  <tbody>\n",
       "    <tr>\n",
       "      <th>0</th>\n",
       "      <td>Alabama</td>\n",
       "      <td>49105.054039</td>\n",
       "    </tr>\n",
       "    <tr>\n",
       "      <th>1</th>\n",
       "      <td>Alaska</td>\n",
       "      <td>64067.490421</td>\n",
       "    </tr>\n",
       "    <tr>\n",
       "      <th>2</th>\n",
       "      <td>Arizona</td>\n",
       "      <td>51482.227723</td>\n",
       "    </tr>\n",
       "    <tr>\n",
       "      <th>3</th>\n",
       "      <td>Arkansas</td>\n",
       "      <td>43961.711857</td>\n",
       "    </tr>\n",
       "    <tr>\n",
       "      <th>4</th>\n",
       "      <td>California</td>\n",
       "      <td>61602.231161</td>\n",
       "    </tr>\n",
       "  </tbody>\n",
       "</table>\n",
       "</div>"
      ],
      "text/plain": [
       "        state  annual_median\n",
       "0     Alabama   49105.054039\n",
       "1      Alaska   64067.490421\n",
       "2     Arizona   51482.227723\n",
       "3    Arkansas   43961.711857\n",
       "4  California   61602.231161"
      ]
     },
     "execution_count": 6,
     "metadata": {},
     "output_type": "execute_result"
    }
   ],
   "source": [
    "med_by_state = col_df.groupby(by='state').median()\n",
    "med_by_state.reset_index(inplace=True)\n",
    "med_by_state = med_by_state.rename(columns = {'index':'state'})\n",
    "med_by_state.head()"
   ]
  },
  {
   "cell_type": "code",
   "execution_count": 7,
   "id": "f2301333-2417-4237-939c-53ec4c91e6b1",
   "metadata": {},
   "outputs": [
    {
     "data": {
      "text/html": [
       "<div>\n",
       "<style scoped>\n",
       "    .dataframe tbody tr th:only-of-type {\n",
       "        vertical-align: middle;\n",
       "    }\n",
       "\n",
       "    .dataframe tbody tr th {\n",
       "        vertical-align: top;\n",
       "    }\n",
       "\n",
       "    .dataframe thead th {\n",
       "        text-align: right;\n",
       "    }\n",
       "</style>\n",
       "<table border=\"1\" class=\"dataframe\">\n",
       "  <thead>\n",
       "    <tr style=\"text-align: right;\">\n",
       "      <th></th>\n",
       "      <th>status</th>\n",
       "      <th>price</th>\n",
       "      <th>bed</th>\n",
       "      <th>bath</th>\n",
       "      <th>acre_lot</th>\n",
       "      <th>full_address</th>\n",
       "      <th>street</th>\n",
       "      <th>city</th>\n",
       "      <th>state</th>\n",
       "      <th>zip_code</th>\n",
       "      <th>house_size</th>\n",
       "      <th>sold_date</th>\n",
       "      <th>annual_median_x</th>\n",
       "      <th>annual_median_y</th>\n",
       "    </tr>\n",
       "  </thead>\n",
       "  <tbody>\n",
       "    <tr>\n",
       "      <th>0</th>\n",
       "      <td>for_sale</td>\n",
       "      <td>110000.0</td>\n",
       "      <td>7.0</td>\n",
       "      <td>3.0</td>\n",
       "      <td>0.09</td>\n",
       "      <td>B-2 Monte Elena, Dorado, PR, 00949</td>\n",
       "      <td>B-2 Monte Elena</td>\n",
       "      <td>Dorado</td>\n",
       "      <td>Puerto Rico</td>\n",
       "      <td>949.0</td>\n",
       "      <td>1192.0</td>\n",
       "      <td>2019-06-28</td>\n",
       "      <td>NaN</td>\n",
       "      <td>28377.754237</td>\n",
       "    </tr>\n",
       "    <tr>\n",
       "      <th>1</th>\n",
       "      <td>for_sale</td>\n",
       "      <td>525000.0</td>\n",
       "      <td>3.0</td>\n",
       "      <td>3.0</td>\n",
       "      <td>0.45</td>\n",
       "      <td>955 River Rd, Agawam, MA, 01001</td>\n",
       "      <td>955 River Rd</td>\n",
       "      <td>Agawam</td>\n",
       "      <td>Massachusetts</td>\n",
       "      <td>1001.0</td>\n",
       "      <td>2314.0</td>\n",
       "      <td>2014-06-25</td>\n",
       "      <td>NaN</td>\n",
       "      <td>61829.452055</td>\n",
       "    </tr>\n",
       "    <tr>\n",
       "      <th>2</th>\n",
       "      <td>for_sale</td>\n",
       "      <td>289900.0</td>\n",
       "      <td>3.0</td>\n",
       "      <td>2.0</td>\n",
       "      <td>0.36</td>\n",
       "      <td>82 Harvey Johnson Dr, Agawam, MA, 01001</td>\n",
       "      <td>82 Harvey Johnson Dr</td>\n",
       "      <td>Agawam</td>\n",
       "      <td>Massachusetts</td>\n",
       "      <td>1001.0</td>\n",
       "      <td>1276.0</td>\n",
       "      <td>2012-10-12</td>\n",
       "      <td>NaN</td>\n",
       "      <td>61829.452055</td>\n",
       "    </tr>\n",
       "    <tr>\n",
       "      <th>3</th>\n",
       "      <td>for_sale</td>\n",
       "      <td>384900.0</td>\n",
       "      <td>3.0</td>\n",
       "      <td>2.0</td>\n",
       "      <td>0.46</td>\n",
       "      <td>45 Hampden Ln, Agawam, MA, 01001</td>\n",
       "      <td>45 Hampden Ln</td>\n",
       "      <td>Agawam</td>\n",
       "      <td>Massachusetts</td>\n",
       "      <td>1001.0</td>\n",
       "      <td>1476.0</td>\n",
       "      <td>1986-11-20</td>\n",
       "      <td>NaN</td>\n",
       "      <td>61829.452055</td>\n",
       "    </tr>\n",
       "    <tr>\n",
       "      <th>4</th>\n",
       "      <td>for_sale</td>\n",
       "      <td>199999.0</td>\n",
       "      <td>3.0</td>\n",
       "      <td>2.0</td>\n",
       "      <td>1.76</td>\n",
       "      <td>88 South St, Agawam, MA, 01001</td>\n",
       "      <td>88 South St</td>\n",
       "      <td>Agawam</td>\n",
       "      <td>Massachusetts</td>\n",
       "      <td>1001.0</td>\n",
       "      <td>1968.0</td>\n",
       "      <td>2008-09-19</td>\n",
       "      <td>NaN</td>\n",
       "      <td>61829.452055</td>\n",
       "    </tr>\n",
       "  </tbody>\n",
       "</table>\n",
       "</div>"
      ],
      "text/plain": [
       "     status     price  bed  bath  acre_lot  \\\n",
       "0  for_sale  110000.0  7.0   3.0      0.09   \n",
       "1  for_sale  525000.0  3.0   3.0      0.45   \n",
       "2  for_sale  289900.0  3.0   2.0      0.36   \n",
       "3  for_sale  384900.0  3.0   2.0      0.46   \n",
       "4  for_sale  199999.0  3.0   2.0      1.76   \n",
       "\n",
       "                              full_address                street    city  \\\n",
       "0       B-2 Monte Elena, Dorado, PR, 00949       B-2 Monte Elena  Dorado   \n",
       "1          955 River Rd, Agawam, MA, 01001          955 River Rd  Agawam   \n",
       "2  82 Harvey Johnson Dr, Agawam, MA, 01001  82 Harvey Johnson Dr  Agawam   \n",
       "3         45 Hampden Ln, Agawam, MA, 01001         45 Hampden Ln  Agawam   \n",
       "4           88 South St, Agawam, MA, 01001           88 South St  Agawam   \n",
       "\n",
       "           state  zip_code  house_size   sold_date  annual_median_x  \\\n",
       "0    Puerto Rico     949.0      1192.0  2019-06-28              NaN   \n",
       "1  Massachusetts    1001.0      2314.0  2014-06-25              NaN   \n",
       "2  Massachusetts    1001.0      1276.0  2012-10-12              NaN   \n",
       "3  Massachusetts    1001.0      1476.0  1986-11-20              NaN   \n",
       "4  Massachusetts    1001.0      1968.0  2008-09-19              NaN   \n",
       "\n",
       "   annual_median_y  \n",
       "0     28377.754237  \n",
       "1     61829.452055  \n",
       "2     61829.452055  \n",
       "3     61829.452055  \n",
       "4     61829.452055  "
      ]
     },
     "execution_count": 7,
     "metadata": {},
     "output_type": "execute_result"
    }
   ],
   "source": [
    "df = df.merge(col_df[['area', 'annual_median']], left_on='city', right_on='area', how='left').drop('area', axis=1)\n",
    "df = df.merge(med_by_state[['state', 'annual_median']], left_on='state', right_on='state', how='left')\n",
    "df.head()"
   ]
  },
  {
   "cell_type": "markdown",
   "id": "ffa603b2-5499-4807-a440-dc1c42be781b",
   "metadata": {},
   "source": [
    "### Now we merge the columns, taking cost of living_x where city matched up, or cost_of_living_index_y if city cost of living is Na"
   ]
  },
  {
   "cell_type": "code",
   "execution_count": 8,
   "id": "4dfa5f86-7af0-4c9d-bd3d-531f7967374b",
   "metadata": {},
   "outputs": [
    {
     "data": {
      "text/html": [
       "<div>\n",
       "<style scoped>\n",
       "    .dataframe tbody tr th:only-of-type {\n",
       "        vertical-align: middle;\n",
       "    }\n",
       "\n",
       "    .dataframe tbody tr th {\n",
       "        vertical-align: top;\n",
       "    }\n",
       "\n",
       "    .dataframe thead th {\n",
       "        text-align: right;\n",
       "    }\n",
       "</style>\n",
       "<table border=\"1\" class=\"dataframe\">\n",
       "  <thead>\n",
       "    <tr style=\"text-align: right;\">\n",
       "      <th></th>\n",
       "      <th>status</th>\n",
       "      <th>price</th>\n",
       "      <th>bed</th>\n",
       "      <th>bath</th>\n",
       "      <th>acre_lot</th>\n",
       "      <th>full_address</th>\n",
       "      <th>street</th>\n",
       "      <th>city</th>\n",
       "      <th>state</th>\n",
       "      <th>zip_code</th>\n",
       "      <th>house_size</th>\n",
       "      <th>sold_date</th>\n",
       "      <th>annual_median</th>\n",
       "    </tr>\n",
       "  </thead>\n",
       "  <tbody>\n",
       "    <tr>\n",
       "      <th>0</th>\n",
       "      <td>for_sale</td>\n",
       "      <td>110000.0</td>\n",
       "      <td>7.0</td>\n",
       "      <td>3.0</td>\n",
       "      <td>0.09</td>\n",
       "      <td>B-2 Monte Elena, Dorado, PR, 00949</td>\n",
       "      <td>B-2 Monte Elena</td>\n",
       "      <td>Dorado</td>\n",
       "      <td>Puerto Rico</td>\n",
       "      <td>949.0</td>\n",
       "      <td>1192.0</td>\n",
       "      <td>2019-06-28</td>\n",
       "      <td>28377.754237</td>\n",
       "    </tr>\n",
       "    <tr>\n",
       "      <th>1</th>\n",
       "      <td>for_sale</td>\n",
       "      <td>525000.0</td>\n",
       "      <td>3.0</td>\n",
       "      <td>3.0</td>\n",
       "      <td>0.45</td>\n",
       "      <td>955 River Rd, Agawam, MA, 01001</td>\n",
       "      <td>955 River Rd</td>\n",
       "      <td>Agawam</td>\n",
       "      <td>Massachusetts</td>\n",
       "      <td>1001.0</td>\n",
       "      <td>2314.0</td>\n",
       "      <td>2014-06-25</td>\n",
       "      <td>61829.452055</td>\n",
       "    </tr>\n",
       "    <tr>\n",
       "      <th>2</th>\n",
       "      <td>for_sale</td>\n",
       "      <td>289900.0</td>\n",
       "      <td>3.0</td>\n",
       "      <td>2.0</td>\n",
       "      <td>0.36</td>\n",
       "      <td>82 Harvey Johnson Dr, Agawam, MA, 01001</td>\n",
       "      <td>82 Harvey Johnson Dr</td>\n",
       "      <td>Agawam</td>\n",
       "      <td>Massachusetts</td>\n",
       "      <td>1001.0</td>\n",
       "      <td>1276.0</td>\n",
       "      <td>2012-10-12</td>\n",
       "      <td>61829.452055</td>\n",
       "    </tr>\n",
       "    <tr>\n",
       "      <th>3</th>\n",
       "      <td>for_sale</td>\n",
       "      <td>384900.0</td>\n",
       "      <td>3.0</td>\n",
       "      <td>2.0</td>\n",
       "      <td>0.46</td>\n",
       "      <td>45 Hampden Ln, Agawam, MA, 01001</td>\n",
       "      <td>45 Hampden Ln</td>\n",
       "      <td>Agawam</td>\n",
       "      <td>Massachusetts</td>\n",
       "      <td>1001.0</td>\n",
       "      <td>1476.0</td>\n",
       "      <td>1986-11-20</td>\n",
       "      <td>61829.452055</td>\n",
       "    </tr>\n",
       "    <tr>\n",
       "      <th>4</th>\n",
       "      <td>for_sale</td>\n",
       "      <td>199999.0</td>\n",
       "      <td>3.0</td>\n",
       "      <td>2.0</td>\n",
       "      <td>1.76</td>\n",
       "      <td>88 South St, Agawam, MA, 01001</td>\n",
       "      <td>88 South St</td>\n",
       "      <td>Agawam</td>\n",
       "      <td>Massachusetts</td>\n",
       "      <td>1001.0</td>\n",
       "      <td>1968.0</td>\n",
       "      <td>2008-09-19</td>\n",
       "      <td>61829.452055</td>\n",
       "    </tr>\n",
       "  </tbody>\n",
       "</table>\n",
       "</div>"
      ],
      "text/plain": [
       "     status     price  bed  bath  acre_lot  \\\n",
       "0  for_sale  110000.0  7.0   3.0      0.09   \n",
       "1  for_sale  525000.0  3.0   3.0      0.45   \n",
       "2  for_sale  289900.0  3.0   2.0      0.36   \n",
       "3  for_sale  384900.0  3.0   2.0      0.46   \n",
       "4  for_sale  199999.0  3.0   2.0      1.76   \n",
       "\n",
       "                              full_address                street    city  \\\n",
       "0       B-2 Monte Elena, Dorado, PR, 00949       B-2 Monte Elena  Dorado   \n",
       "1          955 River Rd, Agawam, MA, 01001          955 River Rd  Agawam   \n",
       "2  82 Harvey Johnson Dr, Agawam, MA, 01001  82 Harvey Johnson Dr  Agawam   \n",
       "3         45 Hampden Ln, Agawam, MA, 01001         45 Hampden Ln  Agawam   \n",
       "4           88 South St, Agawam, MA, 01001           88 South St  Agawam   \n",
       "\n",
       "           state  zip_code  house_size   sold_date  annual_median  \n",
       "0    Puerto Rico     949.0      1192.0  2019-06-28   28377.754237  \n",
       "1  Massachusetts    1001.0      2314.0  2014-06-25   61829.452055  \n",
       "2  Massachusetts    1001.0      1276.0  2012-10-12   61829.452055  \n",
       "3  Massachusetts    1001.0      1476.0  1986-11-20   61829.452055  \n",
       "4  Massachusetts    1001.0      1968.0  2008-09-19   61829.452055  "
      ]
     },
     "execution_count": 8,
     "metadata": {},
     "output_type": "execute_result"
    }
   ],
   "source": [
    "df = df.assign(annual_median=df['annual_median_x'].mask(df['annual_median_x'].isna(), df['annual_median_y']))\n",
    "df = df.drop(['annual_median_x', 'annual_median_y'], axis=1)\n",
    "df.head(5)"
   ]
  },
  {
   "cell_type": "code",
   "execution_count": 9,
   "id": "56effcca-019a-47a5-b27a-e5e2643cfefc",
   "metadata": {},
   "outputs": [
    {
     "data": {
      "text/plain": [
       "False"
      ]
     },
     "execution_count": 9,
     "metadata": {},
     "output_type": "execute_result"
    }
   ],
   "source": [
    "# Cost of Living Index updated for all values\n",
    "df['annual_median'].isna().any()"
   ]
  },
  {
   "cell_type": "code",
   "execution_count": 10,
   "id": "f75873f2-cea3-4bd6-828a-ac12d9ac20da",
   "metadata": {},
   "outputs": [
    {
     "data": {
      "text/plain": [
       "status            object\n",
       "price            float64\n",
       "bed              float64\n",
       "bath             float64\n",
       "acre_lot         float64\n",
       "full_address      object\n",
       "street            object\n",
       "city              object\n",
       "state             object\n",
       "zip_code         float64\n",
       "house_size       float64\n",
       "sold_date         object\n",
       "annual_median    float64\n",
       "dtype: object"
      ]
     },
     "execution_count": 10,
     "metadata": {},
     "output_type": "execute_result"
    }
   ],
   "source": [
    "df.dtypes"
   ]
  },
  {
   "cell_type": "markdown",
   "id": "0e4189f7-64f6-4188-b53a-f6d80fa9dec8",
   "metadata": {
    "tags": []
   },
   "source": [
    "## 1. Make sure columns are correct types\n",
    "sold_date is a date not an object"
   ]
  },
  {
   "cell_type": "code",
   "execution_count": 11,
   "id": "96889bf1-b931-4b99-bbfb-1e2fc1589b45",
   "metadata": {},
   "outputs": [
    {
     "data": {
      "text/plain": [
       "status                   object\n",
       "price                   float64\n",
       "bed                     float64\n",
       "bath                    float64\n",
       "acre_lot                float64\n",
       "full_address             object\n",
       "street                   object\n",
       "city                     object\n",
       "state                    object\n",
       "zip_code                float64\n",
       "house_size              float64\n",
       "sold_date        datetime64[ns]\n",
       "annual_median           float64\n",
       "dtype: object"
      ]
     },
     "execution_count": 11,
     "metadata": {},
     "output_type": "execute_result"
    }
   ],
   "source": [
    "df['sold_date'] = pd.to_datetime(df['sold_date'])\n",
    "# dropped_df['sold_date'] = pd.to_datetime(dropped_df['sold_date'])\n",
    "\n",
    "df.dtypes"
   ]
  },
  {
   "cell_type": "code",
   "execution_count": 12,
   "id": "4ba66e37-9867-425e-b0bd-5301c45c14fd",
   "metadata": {},
   "outputs": [
    {
     "data": {
      "text/plain": [
       "0   2019-06-28\n",
       "1   2014-06-25\n",
       "2   2012-10-12\n",
       "3   1986-11-20\n",
       "4   2008-09-19\n",
       "Name: sold_date, dtype: datetime64[ns]"
      ]
     },
     "execution_count": 12,
     "metadata": {},
     "output_type": "execute_result"
    }
   ],
   "source": [
    "df['sold_date'].head(5)"
   ]
  },
  {
   "cell_type": "code",
   "execution_count": 13,
   "id": "51cc862e-2bf9-4da8-993e-b90b97ebd1ea",
   "metadata": {},
   "outputs": [
    {
     "data": {
      "image/png": "[encoded data removed]",
      "text/plain": [
       "<Figure size 432x288 with 1 Axes>"
      ]
     },
     "metadata": {
      "needs_background": "light"
     },
     "output_type": "display_data"
    }
   ],
   "source": [
    "def plot_line(df, xfeat, yfeat):\n",
    "    df = df.sort_values(by=xfeat)\n",
    "    fig, ax = plt.subplots()\n",
    "    ax.plot(df[xfeat], df[yfeat])\n",
    "    ax.ticklabel_format(axis='y', style='plain')\n",
    "    plt.show()\n",
    "    \n",
    "plot_line(df, 'sold_date', 'price')\n",
    "# lp = sns.lineplot(data=df, x='sold_date', y='price')"
   ]
  },
  {
   "cell_type": "code",
   "execution_count": 14,
   "id": "b9f80013-7e49-4bc8-a67d-e65a6f21284a",
   "metadata": {},
   "outputs": [
    {
     "data": {
      "text/html": [
       "<div>\n",
       "<style scoped>\n",
       "    .dataframe tbody tr th:only-of-type {\n",
       "        vertical-align: middle;\n",
       "    }\n",
       "\n",
       "    .dataframe tbody tr th {\n",
       "        vertical-align: top;\n",
       "    }\n",
       "\n",
       "    .dataframe thead th {\n",
       "        text-align: right;\n",
       "    }\n",
       "</style>\n",
       "<table border=\"1\" class=\"dataframe\">\n",
       "  <thead>\n",
       "    <tr style=\"text-align: right;\">\n",
       "      <th></th>\n",
       "      <th>status</th>\n",
       "      <th>price</th>\n",
       "      <th>bed</th>\n",
       "      <th>bath</th>\n",
       "      <th>acre_lot</th>\n",
       "      <th>full_address</th>\n",
       "      <th>street</th>\n",
       "      <th>city</th>\n",
       "      <th>state</th>\n",
       "      <th>zip_code</th>\n",
       "      <th>house_size</th>\n",
       "      <th>sold_date</th>\n",
       "      <th>annual_median</th>\n",
       "    </tr>\n",
       "  </thead>\n",
       "  <tbody>\n",
       "  </tbody>\n",
       "</table>\n",
       "</div>"
      ],
      "text/plain": [
       "Empty DataFrame\n",
       "Columns: [status, price, bed, bath, acre_lot, full_address, street, city, state, zip_code, house_size, sold_date, annual_median]\n",
       "Index: []"
      ]
     },
     "execution_count": 14,
     "metadata": {},
     "output_type": "execute_result"
    }
   ],
   "source": [
    "df[df['price'] > 600000000]"
   ]
  },
  {
   "cell_type": "markdown",
   "id": "7d73becf-9585-4856-a8cf-25ce7cdcb210",
   "metadata": {
    "tags": []
   },
   "source": [
    "## 2. Price outliers\n",
    "Drop this outlier as it is vastly outside the average"
   ]
  },
  {
   "cell_type": "code",
   "execution_count": 15,
   "id": "410371f6-5120-4731-b2c4-e0f8b830f66b",
   "metadata": {},
   "outputs": [
    {
     "data": {
      "image/png": "[encoded data removed]",
      "text/plain": [
       "<Figure size 432x288 with 1 Axes>"
      ]
     },
     "metadata": {
      "needs_background": "light"
     },
     "output_type": "display_data"
    }
   ],
   "source": [
    "df = df[df['price'] < 600000000]\n",
    "plot_line(df, 'sold_date', 'price')"
   ]
  },
  {
   "cell_type": "markdown",
   "id": "57dfc294-b9dc-42d1-9042-147e0222c05d",
   "metadata": {},
   "source": [
    "### Now convert datetime to a timestamp so we can use it for predictions"
   ]
  },
  {
   "cell_type": "code",
   "execution_count": 16,
   "id": "83582811-6d16-4a87-9f14-7174f654f696",
   "metadata": {},
   "outputs": [
    {
     "data": {
      "text/html": [
       "<div>\n",
       "<style scoped>\n",
       "    .dataframe tbody tr th:only-of-type {\n",
       "        vertical-align: middle;\n",
       "    }\n",
       "\n",
       "    .dataframe tbody tr th {\n",
       "        vertical-align: top;\n",
       "    }\n",
       "\n",
       "    .dataframe thead th {\n",
       "        text-align: right;\n",
       "    }\n",
       "</style>\n",
       "<table border=\"1\" class=\"dataframe\">\n",
       "  <thead>\n",
       "    <tr style=\"text-align: right;\">\n",
       "      <th></th>\n",
       "      <th>status</th>\n",
       "      <th>price</th>\n",
       "      <th>bed</th>\n",
       "      <th>bath</th>\n",
       "      <th>acre_lot</th>\n",
       "      <th>full_address</th>\n",
       "      <th>street</th>\n",
       "      <th>city</th>\n",
       "      <th>state</th>\n",
       "      <th>zip_code</th>\n",
       "      <th>house_size</th>\n",
       "      <th>sold_date</th>\n",
       "      <th>annual_median</th>\n",
       "    </tr>\n",
       "  </thead>\n",
       "  <tbody>\n",
       "    <tr>\n",
       "      <th>0</th>\n",
       "      <td>for_sale</td>\n",
       "      <td>110000.0</td>\n",
       "      <td>7.0</td>\n",
       "      <td>3.0</td>\n",
       "      <td>0.09</td>\n",
       "      <td>B-2 Monte Elena, Dorado, PR, 00949</td>\n",
       "      <td>B-2 Monte Elena</td>\n",
       "      <td>Dorado</td>\n",
       "      <td>Puerto Rico</td>\n",
       "      <td>949.0</td>\n",
       "      <td>1192.0</td>\n",
       "      <td>1.561680e+09</td>\n",
       "      <td>28377.754237</td>\n",
       "    </tr>\n",
       "    <tr>\n",
       "      <th>1</th>\n",
       "      <td>for_sale</td>\n",
       "      <td>525000.0</td>\n",
       "      <td>3.0</td>\n",
       "      <td>3.0</td>\n",
       "      <td>0.45</td>\n",
       "      <td>955 River Rd, Agawam, MA, 01001</td>\n",
       "      <td>955 River Rd</td>\n",
       "      <td>Agawam</td>\n",
       "      <td>Massachusetts</td>\n",
       "      <td>1001.0</td>\n",
       "      <td>2314.0</td>\n",
       "      <td>1.403654e+09</td>\n",
       "      <td>61829.452055</td>\n",
       "    </tr>\n",
       "    <tr>\n",
       "      <th>2</th>\n",
       "      <td>for_sale</td>\n",
       "      <td>289900.0</td>\n",
       "      <td>3.0</td>\n",
       "      <td>2.0</td>\n",
       "      <td>0.36</td>\n",
       "      <td>82 Harvey Johnson Dr, Agawam, MA, 01001</td>\n",
       "      <td>82 Harvey Johnson Dr</td>\n",
       "      <td>Agawam</td>\n",
       "      <td>Massachusetts</td>\n",
       "      <td>1001.0</td>\n",
       "      <td>1276.0</td>\n",
       "      <td>1.350000e+09</td>\n",
       "      <td>61829.452055</td>\n",
       "    </tr>\n",
       "    <tr>\n",
       "      <th>3</th>\n",
       "      <td>for_sale</td>\n",
       "      <td>384900.0</td>\n",
       "      <td>3.0</td>\n",
       "      <td>2.0</td>\n",
       "      <td>0.46</td>\n",
       "      <td>45 Hampden Ln, Agawam, MA, 01001</td>\n",
       "      <td>45 Hampden Ln</td>\n",
       "      <td>Agawam</td>\n",
       "      <td>Massachusetts</td>\n",
       "      <td>1001.0</td>\n",
       "      <td>1476.0</td>\n",
       "      <td>5.328288e+08</td>\n",
       "      <td>61829.452055</td>\n",
       "    </tr>\n",
       "    <tr>\n",
       "      <th>4</th>\n",
       "      <td>for_sale</td>\n",
       "      <td>199999.0</td>\n",
       "      <td>3.0</td>\n",
       "      <td>2.0</td>\n",
       "      <td>1.76</td>\n",
       "      <td>88 South St, Agawam, MA, 01001</td>\n",
       "      <td>88 South St</td>\n",
       "      <td>Agawam</td>\n",
       "      <td>Massachusetts</td>\n",
       "      <td>1001.0</td>\n",
       "      <td>1968.0</td>\n",
       "      <td>1.221782e+09</td>\n",
       "      <td>61829.452055</td>\n",
       "    </tr>\n",
       "  </tbody>\n",
       "</table>\n",
       "</div>"
      ],
      "text/plain": [
       "     status     price  bed  bath  acre_lot  \\\n",
       "0  for_sale  110000.0  7.0   3.0      0.09   \n",
       "1  for_sale  525000.0  3.0   3.0      0.45   \n",
       "2  for_sale  289900.0  3.0   2.0      0.36   \n",
       "3  for_sale  384900.0  3.0   2.0      0.46   \n",
       "4  for_sale  199999.0  3.0   2.0      1.76   \n",
       "\n",
       "                              full_address                street    city  \\\n",
       "0       B-2 Monte Elena, Dorado, PR, 00949       B-2 Monte Elena  Dorado   \n",
       "1          955 River Rd, Agawam, MA, 01001          955 River Rd  Agawam   \n",
       "2  82 Harvey Johnson Dr, Agawam, MA, 01001  82 Harvey Johnson Dr  Agawam   \n",
       "3         45 Hampden Ln, Agawam, MA, 01001         45 Hampden Ln  Agawam   \n",
       "4           88 South St, Agawam, MA, 01001           88 South St  Agawam   \n",
       "\n",
       "           state  zip_code  house_size     sold_date  annual_median  \n",
       "0    Puerto Rico     949.0      1192.0  1.561680e+09   28377.754237  \n",
       "1  Massachusetts    1001.0      2314.0  1.403654e+09   61829.452055  \n",
       "2  Massachusetts    1001.0      1276.0  1.350000e+09   61829.452055  \n",
       "3  Massachusetts    1001.0      1476.0  5.328288e+08   61829.452055  \n",
       "4  Massachusetts    1001.0      1968.0  1.221782e+09   61829.452055  "
      ]
     },
     "execution_count": 16,
     "metadata": {},
     "output_type": "execute_result"
    }
   ],
   "source": [
    "df['sold_date'] = df['sold_date'].apply(lambda x: x.timestamp())\n",
    "# dropped_df['sold_date'] = dropped_df['sold_date'].apply(lambda x: x.timestamp())\n",
    "df.head(5)"
   ]
  },
  {
   "cell_type": "markdown",
   "id": "9115acac-fdba-449c-ab33-3490b5d89564",
   "metadata": {
    "tags": []
   },
   "source": [
    "## 3. Drop unused features\n",
    "We will drop Street and full_address as they are distinct and will not likely help with predictions. Sold date might be a useful feature for us since the housing prices change over time."
   ]
  },
  {
   "cell_type": "code",
   "execution_count": 17,
   "id": "cd3953da-b4d7-4b45-9e8a-c65745941a21",
   "metadata": {},
   "outputs": [],
   "source": [
    "df = df.drop(['street', 'full_address', 'status'], axis=1)"
   ]
  },
  {
   "cell_type": "code",
   "execution_count": 18,
   "id": "8d5883af-6946-4eef-9fd7-7b3dc8ef8a53",
   "metadata": {},
   "outputs": [],
   "source": [
    "df = df.dropna(subset=['acre_lot'])"
   ]
  },
  {
   "cell_type": "code",
   "execution_count": 19,
   "id": "f6322627-b636-4875-ac19-7e11eb3511c6",
   "metadata": {},
   "outputs": [
    {
     "data": {
      "text/html": [
       "<div>\n",
       "<style scoped>\n",
       "    .dataframe tbody tr th:only-of-type {\n",
       "        vertical-align: middle;\n",
       "    }\n",
       "\n",
       "    .dataframe tbody tr th {\n",
       "        vertical-align: top;\n",
       "    }\n",
       "\n",
       "    .dataframe thead th {\n",
       "        text-align: right;\n",
       "    }\n",
       "</style>\n",
       "<table border=\"1\" class=\"dataframe\">\n",
       "  <thead>\n",
       "    <tr style=\"text-align: right;\">\n",
       "      <th></th>\n",
       "      <th>price</th>\n",
       "      <th>bed</th>\n",
       "      <th>bath</th>\n",
       "      <th>acre_lot</th>\n",
       "      <th>city</th>\n",
       "      <th>state</th>\n",
       "      <th>zip_code</th>\n",
       "      <th>house_size</th>\n",
       "      <th>sold_date</th>\n",
       "      <th>annual_median</th>\n",
       "    </tr>\n",
       "  </thead>\n",
       "  <tbody>\n",
       "    <tr>\n",
       "      <th>0</th>\n",
       "      <td>110000.0</td>\n",
       "      <td>7.0</td>\n",
       "      <td>3.0</td>\n",
       "      <td>0.09</td>\n",
       "      <td>Dorado</td>\n",
       "      <td>Puerto Rico</td>\n",
       "      <td>949.0</td>\n",
       "      <td>1192.0</td>\n",
       "      <td>1.561680e+09</td>\n",
       "      <td>28377.754237</td>\n",
       "    </tr>\n",
       "    <tr>\n",
       "      <th>1</th>\n",
       "      <td>525000.0</td>\n",
       "      <td>3.0</td>\n",
       "      <td>3.0</td>\n",
       "      <td>0.45</td>\n",
       "      <td>Agawam</td>\n",
       "      <td>Massachusetts</td>\n",
       "      <td>1001.0</td>\n",
       "      <td>2314.0</td>\n",
       "      <td>1.403654e+09</td>\n",
       "      <td>61829.452055</td>\n",
       "    </tr>\n",
       "    <tr>\n",
       "      <th>2</th>\n",
       "      <td>289900.0</td>\n",
       "      <td>3.0</td>\n",
       "      <td>2.0</td>\n",
       "      <td>0.36</td>\n",
       "      <td>Agawam</td>\n",
       "      <td>Massachusetts</td>\n",
       "      <td>1001.0</td>\n",
       "      <td>1276.0</td>\n",
       "      <td>1.350000e+09</td>\n",
       "      <td>61829.452055</td>\n",
       "    </tr>\n",
       "    <tr>\n",
       "      <th>3</th>\n",
       "      <td>384900.0</td>\n",
       "      <td>3.0</td>\n",
       "      <td>2.0</td>\n",
       "      <td>0.46</td>\n",
       "      <td>Agawam</td>\n",
       "      <td>Massachusetts</td>\n",
       "      <td>1001.0</td>\n",
       "      <td>1476.0</td>\n",
       "      <td>5.328288e+08</td>\n",
       "      <td>61829.452055</td>\n",
       "    </tr>\n",
       "    <tr>\n",
       "      <th>4</th>\n",
       "      <td>199999.0</td>\n",
       "      <td>3.0</td>\n",
       "      <td>2.0</td>\n",
       "      <td>1.76</td>\n",
       "      <td>Agawam</td>\n",
       "      <td>Massachusetts</td>\n",
       "      <td>1001.0</td>\n",
       "      <td>1968.0</td>\n",
       "      <td>1.221782e+09</td>\n",
       "      <td>61829.452055</td>\n",
       "    </tr>\n",
       "  </tbody>\n",
       "</table>\n",
       "</div>"
      ],
      "text/plain": [
       "      price  bed  bath  acre_lot    city          state  zip_code  house_size  \\\n",
       "0  110000.0  7.0   3.0      0.09  Dorado    Puerto Rico     949.0      1192.0   \n",
       "1  525000.0  3.0   3.0      0.45  Agawam  Massachusetts    1001.0      2314.0   \n",
       "2  289900.0  3.0   2.0      0.36  Agawam  Massachusetts    1001.0      1276.0   \n",
       "3  384900.0  3.0   2.0      0.46  Agawam  Massachusetts    1001.0      1476.0   \n",
       "4  199999.0  3.0   2.0      1.76  Agawam  Massachusetts    1001.0      1968.0   \n",
       "\n",
       "      sold_date  annual_median  \n",
       "0  1.561680e+09   28377.754237  \n",
       "1  1.403654e+09   61829.452055  \n",
       "2  1.350000e+09   61829.452055  \n",
       "3  5.328288e+08   61829.452055  \n",
       "4  1.221782e+09   61829.452055  "
      ]
     },
     "execution_count": 19,
     "metadata": {},
     "output_type": "execute_result"
    }
   ],
   "source": [
    "df.head(5)"
   ]
  },
  {
   "cell_type": "markdown",
   "id": "9ba2c562-4bba-4772-a0c1-8575ad004e26",
   "metadata": {},
   "source": [
    "### Add new features that relate the bed/bath to the house size"
   ]
  },
  {
   "cell_type": "code",
   "execution_count": 20,
   "id": "337e495d-a085-4d90-97b2-f905d825f25d",
   "metadata": {},
   "outputs": [],
   "source": [
    "# df = df.assign(['beds_per_sqft'] \n",
    "# df = df.assign(baths_per_bed = (df['bath'] / df['bed']))\n",
    "# df.head()"
   ]
  },
  {
   "cell_type": "code",
   "execution_count": 21,
   "id": "a9406254-d64c-4727-aff3-9328b45404f2",
   "metadata": {},
   "outputs": [
    {
     "data": {
      "text/plain": [
       "11"
      ]
     },
     "execution_count": 21,
     "metadata": {},
     "output_type": "execute_result"
    }
   ],
   "source": [
    "len(df['state'].unique())"
   ]
  },
  {
   "cell_type": "code",
   "execution_count": 22,
   "id": "35c2dd9b-efe9-4fbe-8d3e-a7c8ff725b43",
   "metadata": {},
   "outputs": [
    {
     "data": {
      "text/plain": [
       "2436"
      ]
     },
     "execution_count": 22,
     "metadata": {},
     "output_type": "execute_result"
    }
   ],
   "source": [
    "len(df['zip_code'].unique())"
   ]
  },
  {
   "cell_type": "code",
   "execution_count": 23,
   "id": "3d98465e-d70f-47b2-9554-9f489c706340",
   "metadata": {},
   "outputs": [
    {
     "data": {
      "text/html": [
       "<div>\n",
       "<style scoped>\n",
       "    .dataframe tbody tr th:only-of-type {\n",
       "        vertical-align: middle;\n",
       "    }\n",
       "\n",
       "    .dataframe tbody tr th {\n",
       "        vertical-align: top;\n",
       "    }\n",
       "\n",
       "    .dataframe thead th {\n",
       "        text-align: right;\n",
       "    }\n",
       "</style>\n",
       "<table border=\"1\" class=\"dataframe\">\n",
       "  <thead>\n",
       "    <tr style=\"text-align: right;\">\n",
       "      <th></th>\n",
       "      <th>price</th>\n",
       "      <th>bed</th>\n",
       "      <th>bath</th>\n",
       "      <th>acre_lot</th>\n",
       "      <th>city</th>\n",
       "      <th>state</th>\n",
       "      <th>zip_code</th>\n",
       "      <th>house_size</th>\n",
       "      <th>sold_date</th>\n",
       "      <th>annual_median</th>\n",
       "    </tr>\n",
       "  </thead>\n",
       "  <tbody>\n",
       "  </tbody>\n",
       "</table>\n",
       "</div>"
      ],
      "text/plain": [
       "Empty DataFrame\n",
       "Columns: [price, bed, bath, acre_lot, city, state, zip_code, house_size, sold_date, annual_median]\n",
       "Index: []"
      ]
     },
     "execution_count": 23,
     "metadata": {},
     "output_type": "execute_result"
    }
   ],
   "source": [
    "df[df['zip_code'] == 0]"
   ]
  },
  {
   "cell_type": "code",
   "execution_count": 24,
   "id": "c8309d4e-34e7-41b8-b9a8-1f15a69ec78b",
   "metadata": {},
   "outputs": [
    {
     "data": {
      "text/html": [
       "<div>\n",
       "<style scoped>\n",
       "    .dataframe tbody tr th:only-of-type {\n",
       "        vertical-align: middle;\n",
       "    }\n",
       "\n",
       "    .dataframe tbody tr th {\n",
       "        vertical-align: top;\n",
       "    }\n",
       "\n",
       "    .dataframe thead th {\n",
       "        text-align: right;\n",
       "    }\n",
       "</style>\n",
       "<table border=\"1\" class=\"dataframe\">\n",
       "  <thead>\n",
       "    <tr style=\"text-align: right;\">\n",
       "      <th></th>\n",
       "      <th>price</th>\n",
       "      <th>bed</th>\n",
       "      <th>bath</th>\n",
       "      <th>acre_lot</th>\n",
       "      <th>city</th>\n",
       "      <th>state</th>\n",
       "      <th>zip_code</th>\n",
       "      <th>house_size</th>\n",
       "      <th>sold_date</th>\n",
       "      <th>annual_median</th>\n",
       "    </tr>\n",
       "  </thead>\n",
       "  <tbody>\n",
       "  </tbody>\n",
       "</table>\n",
       "</div>"
      ],
      "text/plain": [
       "Empty DataFrame\n",
       "Columns: [price, bed, bath, acre_lot, city, state, zip_code, house_size, sold_date, annual_median]\n",
       "Index: []"
      ]
     },
     "execution_count": 24,
     "metadata": {},
     "output_type": "execute_result"
    }
   ],
   "source": [
    "df[df['zip_code'].isna()]"
   ]
  },
  {
   "cell_type": "markdown",
   "id": "0fbfe61b-c460-49c1-a549-da1313443d29",
   "metadata": {},
   "source": [
    "## 4. Hash Features\n",
    "Since zip_code has no na, and is more informative than city and state, we will drop city and state and used a featurehasher to engineer features form zip_code. We will create another DF where we use the state as a one-hot encoded vector since there are only 13 states"
   ]
  },
  {
   "cell_type": "markdown",
   "id": "8c4f8499-0942-45aa-8338-5edb586937bf",
   "metadata": {},
   "source": [
    "### Since there are 2471 of unique cities, one hot encoding would add too many features. Instead we will apply feature hashing to a fixed length set of features"
   ]
  },
  {
   "cell_type": "code",
   "execution_count": 25,
   "id": "70569cc9-1562-4527-b689-ace6aeddac24",
   "metadata": {},
   "outputs": [
    {
     "name": "stdout",
     "output_type": "stream",
     "text": [
      "Hashing feature \"zip_code\" to 25 features.\n"
     ]
    }
   ],
   "source": [
    "from sklearn.preprocessing import OneHotEncoder\n",
    "from sklearn.feature_extraction import FeatureHasher\n",
    "\n",
    "def hash_feature(df, feature, num_features):    \n",
    "    print(f'Hashing feature \"{feature}\" to {num_features} features.')\n",
    "    \n",
    "    fh = FeatureHasher(n_features=num_features, input_type='string')\n",
    "    feature_hashes = fh.fit_transform(df[feature])\n",
    "    as_arr = feature_hashes.toarray()\n",
    "    \n",
    "    # reset index on df so that our concatenation works\n",
    "    orig_df = df.reset_index(drop=True)\n",
    "    orig_df = pd.concat([orig_df, pd.DataFrame(as_arr, columns=[f'{feature}{i}' for i in range(1, num_features+1)])], axis=1)\n",
    "    orig_df = orig_df.drop(feature, axis=1)\n",
    "   \n",
    "    return orig_df\n",
    "\n",
    "def freq_feature(df, features):\n",
    "    new_df = df.copy()\n",
    "    \n",
    "    for feature in features:\n",
    "        freq_map = df[feature].value_counts().to_dict()\n",
    "        new_df[feature] = new_df[feature].map(freq_map)\n",
    "        \n",
    "    return new_df\n",
    "\n",
    "# df = df.drop(['sold_date'], axis=1)\n",
    "    \n",
    "hashed_df = df.drop(['city', 'state'], axis=1)\n",
    "hashed_df['zip_code'] = hashed_df['zip_code'].astype(str)\n",
    "hashed_df = hash_feature(hashed_df, 'zip_code', 25)\n",
    "\n",
    "freq_df = freq_feature(df, ['state', 'city', 'zip_code'])\n",
    "# d_freq_df = freq_feature(dropped_df, ['state', 'city', 'zip_code'])"
   ]
  },
  {
   "cell_type": "markdown",
   "id": "637fcaf4-08c0-4697-a0cc-49cdb95c315c",
   "metadata": {},
   "source": [
    "### Looking into how city affects price to see if we can do something fancy with the location attributes"
   ]
  },
  {
   "cell_type": "code",
   "execution_count": 26,
   "id": "cd6349ac-419d-42de-ba7f-6a106f049c33",
   "metadata": {},
   "outputs": [
    {
     "data": {
      "image/png": "[encoded data removed]",
      "text/plain": [
       "<Figure size 864x432 with 1 Axes>"
      ]
     },
     "metadata": {
      "needs_background": "light"
     },
     "output_type": "display_data"
    }
   ],
   "source": [
    "state_prices = df[['state','price']].groupby('state').mean().sort_values(by='price')\n",
    "fig, ax = plt.subplots(figsize=(12, 6))\n",
    "sns.barplot(x=state_prices.index, y=state_prices['price'], palette=sns.color_palette(\"BuGn_r\", n_colors=len(state_prices) + 4), ax=ax)\n",
    "ax.set_xticklabels(ax.get_xticklabels(), rotation=45, horizontalalignment='right')\n",
    "plt.show()"
   ]
  },
  {
   "cell_type": "code",
   "execution_count": 27,
   "id": "578cc67a-5217-4ea4-abe9-32e21c84c017",
   "metadata": {},
   "outputs": [
    {
     "data": {
      "image/png": "[encoded data removed]",
      "text/plain": [
       "<Figure size 864x432 with 1 Axes>"
      ]
     },
     "metadata": {
      "needs_background": "light"
     },
     "output_type": "display_data"
    }
   ],
   "source": [
    "state_prices = df[['state','annual_median']].groupby('state').mean().sort_values(by='annual_median')\n",
    "fig, ax = plt.subplots(figsize=(12, 6))\n",
    "sns.barplot(x=state_prices.index, y=state_prices['annual_median'], palette=sns.color_palette(\"BuGn_r\", n_colors=len(state_prices) + 4), ax=ax)\n",
    "ax.set_xticklabels(ax.get_xticklabels(), rotation=45, horizontalalignment='right')\n",
    "plt.show()"
   ]
  },
  {
   "cell_type": "markdown",
   "id": "22e1e4eb-2b1f-4146-a348-f0c93c0dd7a1",
   "metadata": {},
   "source": [
    "### Looks like there is some correlation between housing cost and median wages"
   ]
  },
  {
   "cell_type": "code",
   "execution_count": 29,
   "id": "fb0f303e-45af-4df3-be18-aa0a27e718e4",
   "metadata": {},
   "outputs": [
    {
     "data": {
      "text/html": [
       "<div>\n",
       "<style scoped>\n",
       "    .dataframe tbody tr th:only-of-type {\n",
       "        vertical-align: middle;\n",
       "    }\n",
       "\n",
       "    .dataframe tbody tr th {\n",
       "        vertical-align: top;\n",
       "    }\n",
       "\n",
       "    .dataframe thead th {\n",
       "        text-align: right;\n",
       "    }\n",
       "</style>\n",
       "<table border=\"1\" class=\"dataframe\">\n",
       "  <thead>\n",
       "    <tr style=\"text-align: right;\">\n",
       "      <th></th>\n",
       "      <th>price</th>\n",
       "      <th>bed</th>\n",
       "      <th>bath</th>\n",
       "      <th>acre_lot</th>\n",
       "      <th>city</th>\n",
       "      <th>state</th>\n",
       "      <th>zip_code</th>\n",
       "      <th>house_size</th>\n",
       "      <th>sold_date</th>\n",
       "      <th>annual_median</th>\n",
       "    </tr>\n",
       "  </thead>\n",
       "  <tbody>\n",
       "    <tr>\n",
       "      <th>0</th>\n",
       "      <td>110000.0</td>\n",
       "      <td>7.0</td>\n",
       "      <td>3.0</td>\n",
       "      <td>0.09</td>\n",
       "      <td>1</td>\n",
       "      <td>1</td>\n",
       "      <td>1</td>\n",
       "      <td>1192.0</td>\n",
       "      <td>1.561680e+09</td>\n",
       "      <td>28377.754237</td>\n",
       "    </tr>\n",
       "    <tr>\n",
       "      <th>1</th>\n",
       "      <td>525000.0</td>\n",
       "      <td>3.0</td>\n",
       "      <td>3.0</td>\n",
       "      <td>0.45</td>\n",
       "      <td>8</td>\n",
       "      <td>3307</td>\n",
       "      <td>4</td>\n",
       "      <td>2314.0</td>\n",
       "      <td>1.403654e+09</td>\n",
       "      <td>61829.452055</td>\n",
       "    </tr>\n",
       "    <tr>\n",
       "      <th>2</th>\n",
       "      <td>289900.0</td>\n",
       "      <td>3.0</td>\n",
       "      <td>2.0</td>\n",
       "      <td>0.36</td>\n",
       "      <td>8</td>\n",
       "      <td>3307</td>\n",
       "      <td>4</td>\n",
       "      <td>1276.0</td>\n",
       "      <td>1.350000e+09</td>\n",
       "      <td>61829.452055</td>\n",
       "    </tr>\n",
       "    <tr>\n",
       "      <th>3</th>\n",
       "      <td>384900.0</td>\n",
       "      <td>3.0</td>\n",
       "      <td>2.0</td>\n",
       "      <td>0.46</td>\n",
       "      <td>8</td>\n",
       "      <td>3307</td>\n",
       "      <td>4</td>\n",
       "      <td>1476.0</td>\n",
       "      <td>5.328288e+08</td>\n",
       "      <td>61829.452055</td>\n",
       "    </tr>\n",
       "    <tr>\n",
       "      <th>4</th>\n",
       "      <td>199999.0</td>\n",
       "      <td>3.0</td>\n",
       "      <td>2.0</td>\n",
       "      <td>1.76</td>\n",
       "      <td>8</td>\n",
       "      <td>3307</td>\n",
       "      <td>4</td>\n",
       "      <td>1968.0</td>\n",
       "      <td>1.221782e+09</td>\n",
       "      <td>61829.452055</td>\n",
       "    </tr>\n",
       "  </tbody>\n",
       "</table>\n",
       "</div>"
      ],
      "text/plain": [
       "      price  bed  bath  acre_lot  city  state  zip_code  house_size  \\\n",
       "0  110000.0  7.0   3.0      0.09     1      1         1      1192.0   \n",
       "1  525000.0  3.0   3.0      0.45     8   3307         4      2314.0   \n",
       "2  289900.0  3.0   2.0      0.36     8   3307         4      1276.0   \n",
       "3  384900.0  3.0   2.0      0.46     8   3307         4      1476.0   \n",
       "4  199999.0  3.0   2.0      1.76     8   3307         4      1968.0   \n",
       "\n",
       "      sold_date  annual_median  \n",
       "0  1.561680e+09   28377.754237  \n",
       "1  1.403654e+09   61829.452055  \n",
       "2  1.350000e+09   61829.452055  \n",
       "3  5.328288e+08   61829.452055  \n",
       "4  1.221782e+09   61829.452055  "
      ]
     },
     "execution_count": 29,
     "metadata": {},
     "output_type": "execute_result"
    }
   ],
   "source": [
    "freq_df.head(5)"
   ]
  },
  {
   "cell_type": "code",
   "execution_count": 30,
   "id": "c027d4be-be4a-4c25-96d5-602e12288097",
   "metadata": {},
   "outputs": [
    {
     "data": {
      "text/html": [
       "<div>\n",
       "<style scoped>\n",
       "    .dataframe tbody tr th:only-of-type {\n",
       "        vertical-align: middle;\n",
       "    }\n",
       "\n",
       "    .dataframe tbody tr th {\n",
       "        vertical-align: top;\n",
       "    }\n",
       "\n",
       "    .dataframe thead th {\n",
       "        text-align: right;\n",
       "    }\n",
       "</style>\n",
       "<table border=\"1\" class=\"dataframe\">\n",
       "  <thead>\n",
       "    <tr style=\"text-align: right;\">\n",
       "      <th></th>\n",
       "      <th>price</th>\n",
       "      <th>bed</th>\n",
       "      <th>bath</th>\n",
       "      <th>acre_lot</th>\n",
       "      <th>house_size</th>\n",
       "      <th>sold_date</th>\n",
       "      <th>annual_median</th>\n",
       "      <th>zip_code1</th>\n",
       "      <th>zip_code2</th>\n",
       "      <th>zip_code3</th>\n",
       "      <th>...</th>\n",
       "      <th>zip_code16</th>\n",
       "      <th>zip_code17</th>\n",
       "      <th>zip_code18</th>\n",
       "      <th>zip_code19</th>\n",
       "      <th>zip_code20</th>\n",
       "      <th>zip_code21</th>\n",
       "      <th>zip_code22</th>\n",
       "      <th>zip_code23</th>\n",
       "      <th>zip_code24</th>\n",
       "      <th>zip_code25</th>\n",
       "    </tr>\n",
       "  </thead>\n",
       "  <tbody>\n",
       "    <tr>\n",
       "      <th>0</th>\n",
       "      <td>110000.0</td>\n",
       "      <td>7.0</td>\n",
       "      <td>3.0</td>\n",
       "      <td>0.09</td>\n",
       "      <td>1192.0</td>\n",
       "      <td>1.561680e+09</td>\n",
       "      <td>28377.754237</td>\n",
       "      <td>0.0</td>\n",
       "      <td>0.0</td>\n",
       "      <td>0.0</td>\n",
       "      <td>...</td>\n",
       "      <td>0.0</td>\n",
       "      <td>0.0</td>\n",
       "      <td>0.0</td>\n",
       "      <td>0.0</td>\n",
       "      <td>0.0</td>\n",
       "      <td>0.0</td>\n",
       "      <td>2.0</td>\n",
       "      <td>-1.0</td>\n",
       "      <td>0.0</td>\n",
       "      <td>0.0</td>\n",
       "    </tr>\n",
       "    <tr>\n",
       "      <th>1</th>\n",
       "      <td>525000.0</td>\n",
       "      <td>3.0</td>\n",
       "      <td>3.0</td>\n",
       "      <td>0.45</td>\n",
       "      <td>2314.0</td>\n",
       "      <td>1.403654e+09</td>\n",
       "      <td>61829.452055</td>\n",
       "      <td>0.0</td>\n",
       "      <td>0.0</td>\n",
       "      <td>0.0</td>\n",
       "      <td>...</td>\n",
       "      <td>0.0</td>\n",
       "      <td>0.0</td>\n",
       "      <td>0.0</td>\n",
       "      <td>0.0</td>\n",
       "      <td>0.0</td>\n",
       "      <td>0.0</td>\n",
       "      <td>0.0</td>\n",
       "      <td>0.0</td>\n",
       "      <td>0.0</td>\n",
       "      <td>0.0</td>\n",
       "    </tr>\n",
       "    <tr>\n",
       "      <th>2</th>\n",
       "      <td>289900.0</td>\n",
       "      <td>3.0</td>\n",
       "      <td>2.0</td>\n",
       "      <td>0.36</td>\n",
       "      <td>1276.0</td>\n",
       "      <td>1.350000e+09</td>\n",
       "      <td>61829.452055</td>\n",
       "      <td>0.0</td>\n",
       "      <td>0.0</td>\n",
       "      <td>0.0</td>\n",
       "      <td>...</td>\n",
       "      <td>0.0</td>\n",
       "      <td>0.0</td>\n",
       "      <td>0.0</td>\n",
       "      <td>0.0</td>\n",
       "      <td>0.0</td>\n",
       "      <td>0.0</td>\n",
       "      <td>0.0</td>\n",
       "      <td>0.0</td>\n",
       "      <td>0.0</td>\n",
       "      <td>0.0</td>\n",
       "    </tr>\n",
       "    <tr>\n",
       "      <th>3</th>\n",
       "      <td>384900.0</td>\n",
       "      <td>3.0</td>\n",
       "      <td>2.0</td>\n",
       "      <td>0.46</td>\n",
       "      <td>1476.0</td>\n",
       "      <td>5.328288e+08</td>\n",
       "      <td>61829.452055</td>\n",
       "      <td>0.0</td>\n",
       "      <td>0.0</td>\n",
       "      <td>0.0</td>\n",
       "      <td>...</td>\n",
       "      <td>0.0</td>\n",
       "      <td>0.0</td>\n",
       "      <td>0.0</td>\n",
       "      <td>0.0</td>\n",
       "      <td>0.0</td>\n",
       "      <td>0.0</td>\n",
       "      <td>0.0</td>\n",
       "      <td>0.0</td>\n",
       "      <td>0.0</td>\n",
       "      <td>0.0</td>\n",
       "    </tr>\n",
       "    <tr>\n",
       "      <th>4</th>\n",
       "      <td>199999.0</td>\n",
       "      <td>3.0</td>\n",
       "      <td>2.0</td>\n",
       "      <td>1.76</td>\n",
       "      <td>1968.0</td>\n",
       "      <td>1.221782e+09</td>\n",
       "      <td>61829.452055</td>\n",
       "      <td>0.0</td>\n",
       "      <td>0.0</td>\n",
       "      <td>0.0</td>\n",
       "      <td>...</td>\n",
       "      <td>0.0</td>\n",
       "      <td>0.0</td>\n",
       "      <td>0.0</td>\n",
       "      <td>0.0</td>\n",
       "      <td>0.0</td>\n",
       "      <td>0.0</td>\n",
       "      <td>0.0</td>\n",
       "      <td>0.0</td>\n",
       "      <td>0.0</td>\n",
       "      <td>0.0</td>\n",
       "    </tr>\n",
       "  </tbody>\n",
       "</table>\n",
       "<p>5 rows × 32 columns</p>\n",
       "</div>"
      ],
      "text/plain": [
       "      price  bed  bath  acre_lot  house_size     sold_date  annual_median  \\\n",
       "0  110000.0  7.0   3.0      0.09      1192.0  1.561680e+09   28377.754237   \n",
       "1  525000.0  3.0   3.0      0.45      2314.0  1.403654e+09   61829.452055   \n",
       "2  289900.0  3.0   2.0      0.36      1276.0  1.350000e+09   61829.452055   \n",
       "3  384900.0  3.0   2.0      0.46      1476.0  5.328288e+08   61829.452055   \n",
       "4  199999.0  3.0   2.0      1.76      1968.0  1.221782e+09   61829.452055   \n",
       "\n",
       "   zip_code1  zip_code2  zip_code3  ...  zip_code16  zip_code17  zip_code18  \\\n",
       "0        0.0        0.0        0.0  ...         0.0         0.0         0.0   \n",
       "1        0.0        0.0        0.0  ...         0.0         0.0         0.0   \n",
       "2        0.0        0.0        0.0  ...         0.0         0.0         0.0   \n",
       "3        0.0        0.0        0.0  ...         0.0         0.0         0.0   \n",
       "4        0.0        0.0        0.0  ...         0.0         0.0         0.0   \n",
       "\n",
       "   zip_code19  zip_code20  zip_code21  zip_code22  zip_code23  zip_code24  \\\n",
       "0         0.0         0.0         0.0         2.0        -1.0         0.0   \n",
       "1         0.0         0.0         0.0         0.0         0.0         0.0   \n",
       "2         0.0         0.0         0.0         0.0         0.0         0.0   \n",
       "3         0.0         0.0         0.0         0.0         0.0         0.0   \n",
       "4         0.0         0.0         0.0         0.0         0.0         0.0   \n",
       "\n",
       "   zip_code25  \n",
       "0         0.0  \n",
       "1         0.0  \n",
       "2         0.0  \n",
       "3         0.0  \n",
       "4         0.0  \n",
       "\n",
       "[5 rows x 32 columns]"
      ]
     },
     "execution_count": 30,
     "metadata": {},
     "output_type": "execute_result"
    }
   ],
   "source": [
    "hashed_df.head(5)"
   ]
  },
  {
   "cell_type": "code",
   "execution_count": 31,
   "id": "1f351d87-7824-43c5-b78e-58d3ac725a7a",
   "metadata": {},
   "outputs": [],
   "source": [
    "from min_max_scaler import MinMaxScaler\n",
    "\n",
    "from sklearn.model_selection import train_test_split, RandomizedSearchCV, GridSearchCV\n",
    "\n",
    "from sklearn.ensemble import RandomForestRegressor\n",
    "from sklearn.linear_model import LinearRegression\n",
    "from sklearn.tree import DecisionTreeRegressor\n",
    "from sklearn.neighbors import KNeighborsRegressor\n",
    "from xgboost import XGBRegressor\n",
    "\n",
    "from pprint import pprint\n",
    "\n",
    "def calc_rsme(x, y):\n",
    "    return np.sqrt(np.sum((x-y)**2)/len(y))\n",
    "\n",
    "def train_model(model, params, df_grid, feature, grid=False):\n",
    "    scores = {}\n",
    "    for df_name in df_grid.keys():\n",
    "        print(f'training on {df_name}')\n",
    "        df = df_grid[df_name]\n",
    "        scores[df_name] = {}\n",
    "        \n",
    "        X = df.drop(feature, axis=1).values\n",
    "        y = df[feature].values\n",
    "\n",
    "        X_train, X_test, y_train, y_test = train_test_split(X, y, test_size=0.25)\n",
    "        \n",
    "        # turn off negative scaling since there is no concept of negative in our features\n",
    "        mms = MinMaxScaler(negative_scale=False)\n",
    "        X_train = mms.fit_transform(X_train)\n",
    "        X_test = mms.transform(X_test)\n",
    "\n",
    "        if grid:\n",
    "            search = GridSearchCV(model, scoring='neg_root_mean_squared_error', cv=10, # neg_root_mean_squared_error\n",
    "                                     param_grid=params, refit=True, n_jobs=-1)\n",
    "        else:\n",
    "            # np.prod produces 1 for empty list.\n",
    "            max_iter = np.prod([len(val) for val in params.values()])\n",
    "\n",
    "            if max_iter < 12:\n",
    "                iters = max_iter\n",
    "            else:\n",
    "                iters = 12\n",
    "\n",
    "            search = RandomizedSearchCV(model, scoring='neg_root_mean_squared_error', cv=10,\n",
    "                                        n_iter=iters, param_distributions=params,\n",
    "                                        refit=True, n_jobs=-1)\n",
    "        \n",
    "        search.fit(X_train, y_train)\n",
    "\n",
    "        best_model = search.best_estimator_\n",
    "        \n",
    "        # negative since the RandomizedSearchCV uses negative root mean squared error\n",
    "        best_params = search.best_params_\n",
    "        preds = best_model.predict(X_test)\n",
    "        rsme = calc_rsme(preds, y_test)\n",
    "        \n",
    "        scores[df_name]['rsme'] = rsme\n",
    "        scores[df_name]['r2_test'] = best_model.score(X_test, y_test)\n",
    "        scores[df_name]['r2_train'] = best_model.score(X_train, y_train)\n",
    "        scores[df_name]['params'] = best_params\n",
    "        \n",
    "        print(f'done training on {df_name}')\n",
    "\n",
    "    return scores"
   ]
  },
  {
   "cell_type": "code",
   "execution_count": 33,
   "id": "02fc8b59-1568-4e76-9594-982d6c858427",
   "metadata": {},
   "outputs": [],
   "source": [
    "df_grid = { 'imputed_hashed_features': hashed_df, 'imputed_frequency_features': freq_df }"
   ]
  },
  {
   "cell_type": "code",
   "execution_count": 34,
   "id": "3268a7d9-adb8-41ca-9333-3ae8978a5b90",
   "metadata": {},
   "outputs": [
    {
     "name": "stdout",
     "output_type": "stream",
     "text": [
      "training on imputed_hashed_features\n",
      "done training on imputed_hashed_features\n",
      "training on imputed_frequency_features\n",
      "done training on imputed_frequency_features\n",
      "{'imputed_frequency_features': {'params': {'positive': False},\n",
      "                                'r2_test': 0.3656491982996152,\n",
      "                                'r2_train': 0.3552615680427965,\n",
      "                                'rsme': 902995.5165677371},\n",
      " 'imputed_hashed_features': {'params': {'positive': False},\n",
      "                             'r2_test': 0.3456369058098874,\n",
      "                             'r2_train': 0.36476398755561856,\n",
      "                             'rsme': 878575.9839095805}}\n"
     ]
    }
   ],
   "source": [
    "params = { 'positive': [True, False] }\n",
    "scores = train_model(LinearRegression(), params, df_grid, 'price', grid=True)\n",
    "pprint(scores)"
   ]
  },
  {
   "cell_type": "markdown",
   "id": "8a92e847-bef0-4cf7-ba46-25e43c649f45",
   "metadata": {},
   "source": [
    "### Linear model does not perform well, need to go non-linear. Let's try some non-linear models."
   ]
  },
  {
   "cell_type": "code",
   "execution_count": 35,
   "id": "1aa1dff0-9c90-4a2f-8ff9-2cc5fa5e1097",
   "metadata": {},
   "outputs": [
    {
     "name": "stdout",
     "output_type": "stream",
     "text": [
      "training on imputed_hashed_features\n",
      "done training on imputed_hashed_features\n",
      "training on imputed_frequency_features\n",
      "done training on imputed_frequency_features\n",
      "{'imputed_frequency_features': {'params': {'n_neighbors': 20,\n",
      "                                           'p': 1,\n",
      "                                           'weights': 'uniform'},\n",
      "                                'r2_test': 0.5980253188399418,\n",
      "                                'r2_train': 0.5849826182762918,\n",
      "                                'rsme': 727307.8129542491},\n",
      " 'imputed_hashed_features': {'params': {'n_neighbors': 5,\n",
      "                                        'p': 1,\n",
      "                                        'weights': 'distance'},\n",
      "                             'r2_test': 0.5235674639630323,\n",
      "                             'r2_train': 0.9999997606205812,\n",
      "                             'rsme': 857946.786007775}}\n"
     ]
    }
   ],
   "source": [
    "params = {'n_neighbors': [2,5,10,15,20], 'weights': ['distance', 'uniform'], 'p': [1,2]}\n",
    "scores = train_model(KNeighborsRegressor(), params, df_grid, 'price')\n",
    "pprint(scores)"
   ]
  },
  {
   "cell_type": "code",
   "execution_count": 36,
   "id": "04179a6b-9d68-41c0-8bcc-04472a25c19f",
   "metadata": {},
   "outputs": [
    {
     "name": "stdout",
     "output_type": "stream",
     "text": [
      "training on imputed_hashed_features\n",
      "done training on imputed_hashed_features\n",
      "training on imputed_frequency_features\n",
      "done training on imputed_frequency_features\n",
      "{'imputed_frequency_features': {'params': {'max_depth': 10,\n",
      "                                           'min_samples_split': 60,\n",
      "                                           'splitter': 'random'},\n",
      "                                'r2_test': 0.4136994562645565,\n",
      "                                'r2_train': 0.5021985475158238,\n",
      "                                'rsme': 1094663.248710657},\n",
      " 'imputed_hashed_features': {'params': {'max_depth': None,\n",
      "                                        'min_samples_split': 30,\n",
      "                                        'splitter': 'random'},\n",
      "                             'r2_test': 0.39966905342465675,\n",
      "                             'r2_train': 0.6253356298979605,\n",
      "                             'rsme': 990115.9795576616}}\n"
     ]
    }
   ],
   "source": [
    "# After several attempts we see it goes full pure ~30 nodes\n",
    "params = {'splitter': ['best', 'random'], 'min_samples_split': [2, 20, 30, 40, 60], 'max_depth': [None,10,20]}\n",
    "scores = train_model(DecisionTreeRegressor(), params, df_grid, 'price', grid=True)\n",
    "pprint(scores)"
   ]
  },
  {
   "cell_type": "code",
   "execution_count": null,
   "id": "bbe04c21-eb7c-4de3-808a-ac3e880b7f16",
   "metadata": {},
   "outputs": [
    {
     "name": "stdout",
     "output_type": "stream",
     "text": [
      "training on imputed_hashed_features\n"
     ]
    }
   ],
   "source": [
    "# this one takes some time to train\n",
    "params = {'n_estimators': [10,50,100], 'max_depth': [None,10,20], 'ccp_alpha': [0.01, 0.02, 0.03]}\n",
    "scores = train_model(RandomForestRegressor(), params, df_grid, 'price')\n",
    "pprint(scores)"
   ]
  },
  {
   "cell_type": "code",
   "execution_count": 97,
   "id": "e2935d8c-9b24-4291-8a0c-409ca0f24021",
   "metadata": {},
   "outputs": [
    {
     "name": "stdout",
     "output_type": "stream",
     "text": [
      "training on imputed_frequency_features\n",
      "done training on imputed_frequency_features\n",
      "training on imputed_median_by_zip\n",
      "done training on imputed_median_by_zip\n",
      "{'imputed_frequency_features': {'params': {'eta': 0.05,\n",
      "                                           'gamma': 1,\n",
      "                                           'lambda': 5,\n",
      "                                           'max_depth': 10},\n",
      "                                'r2_test': 0.5814352976770683,\n",
      "                                'r2_train': 0.9016352937808998,\n",
      "                                'rsme': 888211.0938630328},\n",
      " 'imputed_median_by_zip': {'params': {'eta': 0.15,\n",
      "                                      'gamma': 10,\n",
      "                                      'lambda': 1,\n",
      "                                      'max_depth': 3},\n",
      "                           'r2_test': 0.6499765430493842,\n",
      "                           'r2_train': 0.8069368160147561,\n",
      "                           'rsme': 741292.5589561899}}\n"
     ]
    }
   ],
   "source": [
    "# eta is learning rate\n",
    "params = {'eta': [0.05,0.1,0.15], 'gamma': [0, 1, 10], 'max_depth': [3, 6, 10], 'lambda': [1,5,10]}\n",
    "scores = train_model(XGBRegressor(), params, df_grid, 'price')\n",
    "pprint(scores)"
   ]
  },
  {
   "cell_type": "markdown",
   "id": "72459bab-3fa5-4170-8963-ce9f5c78d625",
   "metadata": {},
   "source": [
    "# Analysis\n",
    "### Feature Engineering\n",
    "1. Hashing the zip code feature did not offer much increased performance over simple frequency mapping. Furthermore, the additional complexity caused this feature set to take a much longer time to train the models. If scaled up to more data, it would not perform well.\n",
    "\n",
    "2. Although not shown in the analysis above due to the time it took to train each model, it was tested to see if dropping NA values for bed, bath, and house_size was better than imputing, and imputing outperformed the dropped dataset every single time, therefore imputing the l\n",
    "\n",
    "3. Downsides to adding median by zip as a feature: If we see a zip code we have not seen before, we will not have this information."
   ]
  }
 ],
 "metadata": {
  "kernelspec": {
   "display_name": "ml",
   "language": "python",
   "name": "ml"
  },
  "language_info": {
   "codemirror_mode": {
    "name": "ipython",
    "version": 3
   },
   "file_extension": ".py",
   "mimetype": "text/x-python",
   "name": "python",
   "nbconvert_exporter": "python",
   "pygments_lexer": "ipython3",
   "version": "3.9.7"
  }
 },
 "nbformat": 4,
 "nbformat_minor": 5
}
